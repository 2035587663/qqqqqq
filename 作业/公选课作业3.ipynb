{
 "cells": [
  {
   "cell_type": "markdown",
   "metadata": {},
   "source": [
    "# 第3次作业"
   ]
  },
  {
   "cell_type": "markdown",
   "metadata": {},
   "source": [
    "## 移动零"
   ]
  },
  {
   "cell_type": "raw",
   "metadata": {},
   "source": [
    "给定一个列表nums，缩写一个函数将所有0移动到列表的末尾，同时保持非零元素的相对顺序。\n",
    "示例：\n",
    "输入nums=[0,1,0,3,1,2]\n",
    "输出nums=[1,3,1,2,0,0]\n",
    "要求：所有操作在原列表中进行，不能拷贝额外的列表。尽量减少操作次数。"
   ]
  },
  {
   "cell_type": "markdown",
   "metadata": {},
   "source": [
    "**只需要按【pythonic方法】写代码**"
   ]
  },
  {
   "cell_type": "markdown",
   "metadata": {},
   "source": [
    "### 常规思路：双指针"
   ]
  },
  {
   "cell_type": "code",
   "execution_count": 2,
   "metadata": {},
   "outputs": [
    {
     "name": "stdout",
     "output_type": "stream",
     "text": [
      "[1, 3, 71, 32, 0, 0, 0]\n"
     ]
    }
   ],
   "source": [
    "def moveZeroes(nums):\n",
    "    i=0\n",
    "    j=1\n",
    "    while j<len(nums):\n",
    "        if nums[i]==nums[j]==0:\n",
    "            j+=1\n",
    "            continue\n",
    "            \n",
    "        if nums[i]==0 and nums[j]!=0:\n",
    "            nums[i], nums[j] = nums[j], nums[i]\n",
    "        i+=1\n",
    "        j+=1\n",
    "    return nums\n",
    "\n",
    "arr = [0,0,1,0,3,71,32]\n",
    "print(moveZeroes(arr))"
   ]
  },
  {
   "cell_type": "markdown",
   "metadata": {},
   "source": [
    "### pythonic方法\n",
    "**灵活应用Python列表的内置方法：count(), remove(),append()等**"
   ]
  },
  {
   "cell_type": "code",
   "execution_count": 3,
   "metadata": {},
   "outputs": [
    {
     "name": "stdout",
     "output_type": "stream",
     "text": [
      "[1, 3, 71, 32, 0, 0, 0]\n"
     ]
    }
   ],
   "source": [
    "nums = [0, 0, 1, 0, 3, 71, 32]\n",
    "for i in range(0,nums.count(0)):\n",
    "    nums.remove(0)\n",
    "    nums.append(0)\n",
    "print(nums)"
   ]
  },
  {
   "cell_type": "markdown",
   "metadata": {},
   "source": [
    "## 拼接字典序最小字符串\n",
    "**给定一个由字符串组成的数组strs，必须把所有的字符串拼接起来，返回所有可能的拼接结果中，字典序最小的结果。<br>\n",
    "例如，s = [\"cd\", \"ba\",\"b\"]，所有可能的拼接结果中字典序最小的是babcd。**"
   ]
  },
  {
   "cell_type": "code",
   "execution_count": 1,
   "metadata": {},
   "outputs": [
    {
     "name": "stdout",
     "output_type": "stream",
     "text": [
      "['ba', 'ba', 'b', 'ca']\n",
      "bababca\n"
     ]
    }
   ],
   "source": [
    "def mysort(x,y):\n",
    "    if x+y < y+x:\n",
    "        return -1\n",
    "    elif x+y == y+x:\n",
    "        return 0\n",
    "    else:\n",
    "        return 1\n",
    "\n",
    "strs = [\"ba\", \"b\", \"ca\", \"ba\"]\n",
    "from functools import cmp_to_key\n",
    "strs.sort(key=cmp_to_key(mysort))\n",
    "print(strs)\n",
    "print(\"\".join(strs))"
   ]
  },
  {
   "cell_type": "code",
   "execution_count": null,
   "metadata": {},
   "outputs": [],
   "source": []
  },
  {
   "cell_type": "code",
   "execution_count": 1,
   "metadata": {},
   "outputs": [
    {
     "name": "stdout",
     "output_type": "stream",
     "text": [
      "['b', 'ba', 'cd']\n"
     ]
    }
   ],
   "source": [
    "strs = [\"ba\",\"b\",\"cd\"]\n",
    "strs.sort()\n",
    "print(strs)"
   ]
  },
  {
   "cell_type": "code",
   "execution_count": 2,
   "metadata": {},
   "outputs": [
    {
     "data": {
      "text/plain": [
       "['ba', 'cde', 'bact']"
      ]
     },
     "execution_count": 2,
     "metadata": {},
     "output_type": "execute_result"
    }
   ],
   "source": [
    "s = [\"cde\", \"bact\",\"ba\"]\n",
    "s.sort(key=len)\n",
    "s"
   ]
  },
  {
   "cell_type": "markdown",
   "metadata": {},
   "source": [
    "##  最大子序和\n",
    "**给定一个整数数组 nums ，找到一个具有最大和的连续子数组（子数组最少包含一个元素），返回其最大和。**"
   ]
  },
  {
   "cell_type": "raw",
   "metadata": {},
   "source": [
    "示例 1：\n",
    "输入：nums = [-2,1,-3,4,-1,2,1,-5,4]\n",
    "输出：6\n",
    "解释：连续子数组 [4,-1,2,1] 的和最大，为 6 。\n",
    "示例 2：\n",
    "输入：nums = [1]\n",
    "输出：1\n",
    "示例 3：\n",
    "输入：nums = [0]\n",
    "输出：0\n",
    "示例 4：\n",
    "输入：nums = [-1]\n",
    "输出：-1\n",
    "示例 5：\n",
    "输入：nums = [-100000]\n",
    "输出：-100000\n",
    "提示：\n",
    "1 <= nums.length <= 3 * 10^4\n",
    "-10^5 <= nums[i] <= 10^5"
   ]
  },
  {
   "cell_type": "code",
   "execution_count": null,
   "metadata": {},
   "outputs": [],
   "source": []
  },
  {
   "cell_type": "markdown",
   "metadata": {},
   "source": [
    "# 【思考题，不是作业】"
   ]
  },
  {
   "cell_type": "markdown",
   "metadata": {},
   "source": [
    "## 把数组排成最小的数\n",
    "**输入一个正整数数组，把数组里所有数字拼接起来排成一个数，打印能拼接出的所有数字中最小的一个。<br>\n",
    "例如输入数组[32，3，321]，则打印出这三个数字能排成的最小数字为321323。**"
   ]
  },
  {
   "cell_type": "code",
   "execution_count": 2,
   "metadata": {},
   "outputs": [
    {
     "name": "stdout",
     "output_type": "stream",
     "text": [
      "3033459\n"
     ]
    }
   ],
   "source": [
    "s = [3, 30, 34, 5, 9]\n",
    "#s = [int(x) for x in input().split()]\n",
    "from functools import cmp_to_key \n",
    "s1 = sorted(s, key = cmp_to_key(lambda x,y: int(str(x)+str(y)) - int(str(y)+str(x))))\n",
    "s2 = [str(i) for i in s1]\n",
    "s3 = \"\".join(s2)\n",
    "print(s3)"
   ]
  },
  {
   "cell_type": "code",
   "execution_count": null,
   "metadata": {},
   "outputs": [],
   "source": []
  },
  {
   "cell_type": "code",
   "execution_count": null,
   "metadata": {},
   "outputs": [],
   "source": []
  },
  {
   "cell_type": "code",
   "execution_count": 1,
   "metadata": {},
   "outputs": [
    {
     "name": "stdout",
     "output_type": "stream",
     "text": [
      "[3, 5, 9, 30, 34]\n"
     ]
    }
   ],
   "source": [
    "s = [3, 30, 34, 5, 9]\n",
    "s.sort()\n",
    "print(s)"
   ]
  },
  {
   "cell_type": "code",
   "execution_count": 6,
   "metadata": {},
   "outputs": [
    {
     "name": "stdout",
     "output_type": "stream",
     "text": [
      "[321, 32, 3]\n",
      "['321', '32', '3']\n"
     ]
    },
    {
     "data": {
      "text/plain": [
       "321323"
      ]
     },
     "execution_count": 6,
     "metadata": {},
     "output_type": "execute_result"
    }
   ],
   "source": [
    "s = [321,32,3]\n",
    "print(s)\n",
    "s1 = [str(_) for _ in s]\n",
    "print(s1)\n",
    "s2 = \"\".join(s1)\n",
    "int(s2)"
   ]
  },
  {
   "cell_type": "code",
   "execution_count": 9,
   "metadata": {},
   "outputs": [
    {
     "name": "stdout",
     "output_type": "stream",
     "text": [
      "321323\n"
     ]
    }
   ],
   "source": [
    "s = [321,32,3]\n",
    "print(int(\"\".join([str(_) for _ in s])))"
   ]
  },
  {
   "cell_type": "code",
   "execution_count": 22,
   "metadata": {},
   "outputs": [
    {
     "name": "stdout",
     "output_type": "stream",
     "text": [
      "[3, 32, 231, 321]\n"
     ]
    }
   ],
   "source": [
    "s = [32,3,321,231]\n",
    "s.sort()\n",
    "print(s)"
   ]
  },
  {
   "cell_type": "code",
   "execution_count": 20,
   "metadata": {},
   "outputs": [
    {
     "name": "stdout",
     "output_type": "stream",
     "text": [
      "[-8, 0, 4, 5]\n",
      "[0, 4, 5, -8]\n"
     ]
    }
   ],
   "source": [
    "s = [0,5,-8,4]\n",
    "s.sort()\n",
    "print(s)\n",
    "s.sort(key=abs)\n",
    "print(s)"
   ]
  },
  {
   "cell_type": "code",
   "execution_count": null,
   "metadata": {},
   "outputs": [],
   "source": []
  }
 ],
 "metadata": {
  "kernelspec": {
   "display_name": "Python 3",
   "language": "python",
   "name": "python3"
  },
  "language_info": {
   "codemirror_mode": {
    "name": "ipython",
    "version": 3
   },
   "file_extension": ".py",
   "mimetype": "text/x-python",
   "name": "python",
   "nbconvert_exporter": "python",
   "pygments_lexer": "ipython3",
   "version": "3.8.8"
  },
  "toc": {
   "base_numbering": 1,
   "nav_menu": {},
   "number_sections": true,
   "sideBar": true,
   "skip_h1_title": false,
   "title_cell": "Table of Contents",
   "title_sidebar": "Contents",
   "toc_cell": false,
   "toc_position": {},
   "toc_section_display": true,
   "toc_window_display": true
  },
  "varInspector": {
   "cols": {
    "lenName": 16,
    "lenType": 16,
    "lenVar": 40
   },
   "kernels_config": {
    "python": {
     "delete_cmd_postfix": "",
     "delete_cmd_prefix": "del ",
     "library": "var_list.py",
     "varRefreshCmd": "print(var_dic_list())"
    },
    "r": {
     "delete_cmd_postfix": ") ",
     "delete_cmd_prefix": "rm(",
     "library": "var_list.r",
     "varRefreshCmd": "cat(var_dic_list()) "
    }
   },
   "types_to_exclude": [
    "module",
    "function",
    "builtin_function_or_method",
    "instance",
    "_Feature"
   ],
   "window_display": false
  }
 },
 "nbformat": 4,
 "nbformat_minor": 4
}
